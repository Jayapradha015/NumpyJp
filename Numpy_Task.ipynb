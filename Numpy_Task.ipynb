{
 "cells": [
  {
   "cell_type": "markdown",
   "id": "e676de51",
   "metadata": {},
   "source": [
    "1. Import the numpy package under the name np (★☆☆)"
   ]
  },
  {
   "cell_type": "code",
   "execution_count": 2,
   "id": "1bfa3380",
   "metadata": {},
   "outputs": [],
   "source": [
    "import numpy as np"
   ]
  },
  {
   "cell_type": "markdown",
   "id": "b04014c0",
   "metadata": {},
   "source": [
    "2. Print the numpy version and the configuration"
   ]
  },
  {
   "cell_type": "code",
   "execution_count": 4,
   "id": "29d26bd3",
   "metadata": {},
   "outputs": [
    {
     "name": "stdout",
     "output_type": "stream",
     "text": [
      "1.23.4\n",
      "openblas64__info:\n",
      "    library_dirs = ['D:\\\\a\\\\numpy\\\\numpy\\\\build\\\\openblas64__info']\n",
      "    libraries = ['openblas64__info']\n",
      "    language = f77\n",
      "    define_macros = [('HAVE_CBLAS', None), ('BLAS_SYMBOL_SUFFIX', '64_'), ('HAVE_BLAS_ILP64', None)]\n",
      "blas_ilp64_opt_info:\n",
      "    library_dirs = ['D:\\\\a\\\\numpy\\\\numpy\\\\build\\\\openblas64__info']\n",
      "    libraries = ['openblas64__info']\n",
      "    language = f77\n",
      "    define_macros = [('HAVE_CBLAS', None), ('BLAS_SYMBOL_SUFFIX', '64_'), ('HAVE_BLAS_ILP64', None)]\n",
      "openblas64__lapack_info:\n",
      "    library_dirs = ['D:\\\\a\\\\numpy\\\\numpy\\\\build\\\\openblas64__lapack_info']\n",
      "    libraries = ['openblas64__lapack_info']\n",
      "    language = f77\n",
      "    define_macros = [('HAVE_CBLAS', None), ('BLAS_SYMBOL_SUFFIX', '64_'), ('HAVE_BLAS_ILP64', None), ('HAVE_LAPACKE', None)]\n",
      "lapack_ilp64_opt_info:\n",
      "    library_dirs = ['D:\\\\a\\\\numpy\\\\numpy\\\\build\\\\openblas64__lapack_info']\n",
      "    libraries = ['openblas64__lapack_info']\n",
      "    language = f77\n",
      "    define_macros = [('HAVE_CBLAS', None), ('BLAS_SYMBOL_SUFFIX', '64_'), ('HAVE_BLAS_ILP64', None), ('HAVE_LAPACKE', None)]\n",
      "Supported SIMD extensions in this NumPy install:\n",
      "    baseline = SSE,SSE2,SSE3\n",
      "    found = SSSE3,SSE41,POPCNT,SSE42,AVX,F16C,FMA3,AVX2\n",
      "    not found = AVX512F,AVX512CD,AVX512_SKX,AVX512_CLX,AVX512_CNL,AVX512_ICL\n"
     ]
    }
   ],
   "source": [
    "print(np.__version__)\n",
    "np.show_config()"
   ]
  },
  {
   "cell_type": "markdown",
   "id": "a93f2dd6",
   "metadata": {},
   "source": [
    "3. Create a null vector of size 10"
   ]
  },
  {
   "cell_type": "code",
   "execution_count": 5,
   "id": "a872281c",
   "metadata": {},
   "outputs": [
    {
     "name": "stdout",
     "output_type": "stream",
     "text": [
      "[0. 0. 0. 0. 0. 0. 0. 0. 0. 0.]\n"
     ]
    }
   ],
   "source": [
    "arr=np.zeros(10)\n",
    "print(arr)"
   ]
  },
  {
   "cell_type": "markdown",
   "id": "a4f7537f",
   "metadata": {},
   "source": [
    "4. How to find the memory size of any array"
   ]
  },
  {
   "cell_type": "code",
   "execution_count": 11,
   "id": "99ffde1b",
   "metadata": {},
   "outputs": [
    {
     "name": "stdout",
     "output_type": "stream",
     "text": [
      "200 bytes\n"
     ]
    }
   ],
   "source": [
    "arr=np.zeros((5,5))\n",
    "ans=arr.size*arr.itemsize\n",
    "print(f\"{ans} bytes\")"
   ]
  },
  {
   "cell_type": "markdown",
   "id": "43368aa9",
   "metadata": {},
   "source": [
    "5. How to get the documentation of the numpy add function from the command line? "
   ]
  },
  {
   "cell_type": "code",
   "execution_count": null,
   "id": "3737756f",
   "metadata": {},
   "outputs": [],
   "source": [
    "%run `python -c \"import numpy; numpy.info(numpy.add)\"`"
   ]
  },
  {
   "cell_type": "markdown",
   "id": "4f2b0f4a",
   "metadata": {},
   "source": [
    "6. Create a null vector of size 10 but the fifth value which is 1 "
   ]
  },
  {
   "cell_type": "code",
   "execution_count": 13,
   "id": "d934feda",
   "metadata": {},
   "outputs": [
    {
     "name": "stdout",
     "output_type": "stream",
     "text": [
      "[0. 0. 0. 0. 1. 0. 0. 0. 0. 0.]\n"
     ]
    }
   ],
   "source": [
    "arr=np.zeros(10)\n",
    "arr[4]=1\n",
    "print(arr)"
   ]
  },
  {
   "cell_type": "markdown",
   "id": "67fcd28f",
   "metadata": {},
   "source": [
    "7. Create a vector with values ranging from 10 to 49"
   ]
  },
  {
   "cell_type": "code",
   "execution_count": 14,
   "id": "d959dcab",
   "metadata": {},
   "outputs": [
    {
     "name": "stdout",
     "output_type": "stream",
     "text": [
      "[10 11 12 13 14 15 16 17 18 19 20 21 22 23 24 25 26 27 28 29 30 31 32 33\n",
      " 34 35 36 37 38 39 40 41 42 43 44 45 46 47 48 49]\n"
     ]
    }
   ],
   "source": [
    "arr=np.arange(10,50)\n",
    "print(arr)"
   ]
  },
  {
   "cell_type": "markdown",
   "id": "d112ce11",
   "metadata": {},
   "source": [
    "8. Reverse a vector (first element becomes last)"
   ]
  },
  {
   "cell_type": "code",
   "execution_count": 15,
   "id": "00aeae47",
   "metadata": {},
   "outputs": [
    {
     "name": "stdout",
     "output_type": "stream",
     "text": [
      "[6 5 4 3 2 1]\n"
     ]
    }
   ],
   "source": [
    "arr=np.array([1,2,3,4,5,6])\n",
    "print(arr[::-1])"
   ]
  },
  {
   "cell_type": "markdown",
   "id": "e1e65c24",
   "metadata": {},
   "source": [
    "9. Create a 3x3 matrix with values ranging from 0 to 8"
   ]
  },
  {
   "cell_type": "code",
   "execution_count": 18,
   "id": "f1132865",
   "metadata": {},
   "outputs": [
    {
     "name": "stdout",
     "output_type": "stream",
     "text": [
      "[[0 1 2]\n",
      " [3 4 5]\n",
      " [6 7 8]]\n"
     ]
    }
   ],
   "source": [
    "arr=np.arange(0,9)\n",
    "narr=np.reshape(arr,(3,3))\n",
    "print(narr)"
   ]
  },
  {
   "cell_type": "markdown",
   "id": "ec45794a",
   "metadata": {},
   "source": [
    "10. Find indices of non-zero elements from [1,2,0,0,4,0]"
   ]
  },
  {
   "cell_type": "code",
   "execution_count": 19,
   "id": "804b415e",
   "metadata": {},
   "outputs": [
    {
     "name": "stdout",
     "output_type": "stream",
     "text": [
      "(array([0, 1, 4], dtype=int64),)\n"
     ]
    }
   ],
   "source": [
    "arr=np.nonzero([1,2,0,0,4,0])\n",
    "print(arr)"
   ]
  },
  {
   "cell_type": "markdown",
   "id": "d7318fb3",
   "metadata": {},
   "source": [
    "11. Create a 3x3 identity matrix \n"
   ]
  },
  {
   "cell_type": "code",
   "execution_count": 20,
   "id": "3e8e4b18",
   "metadata": {},
   "outputs": [
    {
     "name": "stdout",
     "output_type": "stream",
     "text": [
      "[[1. 0. 0.]\n",
      " [0. 1. 0.]\n",
      " [0. 0. 1.]]\n"
     ]
    }
   ],
   "source": [
    "arr=np.eye(3,3)\n",
    "print(arr)"
   ]
  },
  {
   "cell_type": "markdown",
   "id": "abb263ab",
   "metadata": {},
   "source": [
    "12. Create a 3x3x3 array with random values "
   ]
  },
  {
   "cell_type": "code",
   "execution_count": 22,
   "id": "336031a6",
   "metadata": {},
   "outputs": [
    {
     "name": "stdout",
     "output_type": "stream",
     "text": [
      "[[[0.8674458  0.21401864 0.15859323]\n",
      "  [0.80475553 0.46677616 0.79507089]\n",
      "  [0.97196236 0.76237257 0.18517609]]\n",
      "\n",
      " [[0.61270132 0.45093774 0.86436907]\n",
      "  [0.44987244 0.34781245 0.61081534]\n",
      "  [0.11471392 0.99126236 0.89382054]]\n",
      "\n",
      " [[0.86902948 0.00826512 0.3369918 ]\n",
      "  [0.94227516 0.52282249 0.57478023]\n",
      "  [0.19729066 0.3956933  0.35319469]]]\n"
     ]
    }
   ],
   "source": [
    "arr=np.random.random((3,3,3))\n",
    "print(arr)"
   ]
  },
  {
   "cell_type": "markdown",
   "id": "288ef7f3",
   "metadata": {},
   "source": [
    "13. Create a 10x10 array with random values and find the minimum and maximum values "
   ]
  },
  {
   "cell_type": "code",
   "execution_count": 23,
   "id": "2b629e5b",
   "metadata": {},
   "outputs": [
    {
     "name": "stdout",
     "output_type": "stream",
     "text": [
      "0.0023661013078467574 0.9687987700159941\n"
     ]
    }
   ],
   "source": [
    "arr=np.random.random((10,10))\n",
    "arr_min=arr.min()\n",
    "arr_max=arr.max()\n",
    "print(arr_min,arr_max)"
   ]
  },
  {
   "cell_type": "markdown",
   "id": "03b17068",
   "metadata": {},
   "source": [
    "14. Create a random vector of size 30 and find the mean value"
   ]
  },
  {
   "cell_type": "code",
   "execution_count": 26,
   "id": "707164ba",
   "metadata": {},
   "outputs": [
    {
     "name": "stdout",
     "output_type": "stream",
     "text": [
      "0.5851015403101325\n"
     ]
    }
   ],
   "source": [
    "arr=np.random.random(30)\n",
    "ans=arr.mean()\n",
    "print(ans)"
   ]
  },
  {
   "cell_type": "markdown",
   "id": "24f49e2a",
   "metadata": {},
   "source": [
    "15. Create a 2d array with 1 on the border and 0 inside"
   ]
  },
  {
   "cell_type": "code",
   "execution_count": 28,
   "id": "5d4c847d",
   "metadata": {},
   "outputs": [
    {
     "name": "stdout",
     "output_type": "stream",
     "text": [
      "[[1. 1. 1. 1. 1.]\n",
      " [1. 0. 0. 0. 1.]\n",
      " [1. 0. 0. 0. 1.]\n",
      " [1. 0. 0. 0. 1.]\n",
      " [1. 1. 1. 1. 1.]]\n"
     ]
    }
   ],
   "source": [
    "arr=np.ones((5,5))\n",
    "arr[1:-1,1:-1]=0\n",
    "print(arr)"
   ]
  },
  {
   "cell_type": "markdown",
   "id": "d4e4e6bd",
   "metadata": {},
   "source": [
    "16. How to add a border (filled with 0's) around an existing array? "
   ]
  },
  {
   "cell_type": "code",
   "execution_count": 29,
   "id": "b1a6698e",
   "metadata": {},
   "outputs": [
    {
     "name": "stdout",
     "output_type": "stream",
     "text": [
      "[[0. 0. 0. 0. 0. 0. 0.]\n",
      " [0. 1. 1. 1. 1. 1. 0.]\n",
      " [0. 1. 1. 1. 1. 1. 0.]\n",
      " [0. 1. 1. 1. 1. 1. 0.]\n",
      " [0. 1. 1. 1. 1. 1. 0.]\n",
      " [0. 1. 1. 1. 1. 1. 0.]\n",
      " [0. 0. 0. 0. 0. 0. 0.]]\n"
     ]
    }
   ],
   "source": [
    "arr=np.ones((5,5))\n",
    "narr=np.pad(arr,pad_width=1,mode=\"constant\",constant_values=0)\n",
    "print(narr)"
   ]
  },
  {
   "cell_type": "markdown",
   "id": "f495f751",
   "metadata": {},
   "source": [
    "17. What is the result of the following expression? "
   ]
  },
  {
   "cell_type": "code",
   "execution_count": 31,
   "id": "7bd9baba",
   "metadata": {},
   "outputs": [
    {
     "name": "stdout",
     "output_type": "stream",
     "text": [
      "nan\n",
      "False\n",
      "False\n",
      "nan\n",
      "False\n"
     ]
    }
   ],
   "source": [
    "print(0 * np.nan)\n",
    "print(np.nan == np.nan)\n",
    "print(np.inf > np.nan)\n",
    "print(np.nan - np.nan)\n",
    "print(0.3 == 3 * 0.1)"
   ]
  },
  {
   "cell_type": "markdown",
   "id": "8d193d43",
   "metadata": {},
   "source": [
    "18. Create a 5x5 matrix with values 1,2,3,4 just below the diagonal"
   ]
  },
  {
   "cell_type": "code",
   "execution_count": 54,
   "id": "95aeda44",
   "metadata": {},
   "outputs": [
    {
     "name": "stdout",
     "output_type": "stream",
     "text": [
      "[[0 0 0 0 0]\n",
      " [1 0 0 0 0]\n",
      " [0 2 0 0 0]\n",
      " [0 0 3 0 0]\n",
      " [0 0 0 4 0]]\n"
     ]
    }
   ],
   "source": [
    "arr = np.diag((1,2,3,4))\n",
    "arr = np.pad(arr,pad_width = ((1,0),(0,1)),mode = 'constant')\n",
    "print(arr)"
   ]
  },
  {
   "cell_type": "markdown",
   "id": "25fa6c27",
   "metadata": {},
   "source": [
    "19. Create a 8x8 matrix and fill it with a checkerboard pattern "
   ]
  },
  {
   "cell_type": "code",
   "execution_count": 44,
   "id": "cb6f7ee2",
   "metadata": {},
   "outputs": [
    {
     "name": "stdout",
     "output_type": "stream",
     "text": [
      "[[1. 0. 1. 0. 1. 0. 1. 0.]\n",
      " [0. 1. 0. 1. 0. 1. 0. 1.]\n",
      " [1. 0. 1. 0. 1. 0. 1. 0.]\n",
      " [0. 1. 0. 1. 0. 1. 0. 1.]\n",
      " [1. 0. 1. 0. 1. 0. 1. 0.]\n",
      " [0. 1. 0. 1. 0. 1. 0. 1.]\n",
      " [1. 0. 1. 0. 1. 0. 1. 0.]\n",
      " [0. 1. 0. 1. 0. 1. 0. 1.]]\n"
     ]
    }
   ],
   "source": [
    "arr=np.ones((8,8))\n",
    "arr[1::2,::2]=0\n",
    "arr[::2,1::2]=0\n",
    "print(arr)"
   ]
  },
  {
   "cell_type": "markdown",
   "id": "8f49836b",
   "metadata": {},
   "source": [
    "20. Consider a (6,7,8) shape array, what is the index (x,y,z) of the 100th element?"
   ]
  },
  {
   "cell_type": "code",
   "execution_count": 45,
   "id": "7d99a426",
   "metadata": {},
   "outputs": [
    {
     "name": "stdout",
     "output_type": "stream",
     "text": [
      "(1, 5, 4)\n"
     ]
    }
   ],
   "source": [
    "res=np.unravel_index(100,(6,7,8))\n",
    "print(res)"
   ]
  },
  {
   "cell_type": "markdown",
   "id": "00f45fbe",
   "metadata": {},
   "source": [
    "21. Create a checkerboard 8x8 matrix using the tile function "
   ]
  },
  {
   "cell_type": "code",
   "execution_count": 50,
   "id": "9f8aa84e",
   "metadata": {},
   "outputs": [
    {
     "name": "stdout",
     "output_type": "stream",
     "text": [
      "[[1 0 1 0 1 0 1 0]\n",
      " [0 1 0 1 0 1 0 1]\n",
      " [1 0 1 0 1 0 1 0]\n",
      " [0 1 0 1 0 1 0 1]\n",
      " [1 0 1 0 1 0 1 0]\n",
      " [0 1 0 1 0 1 0 1]\n",
      " [1 0 1 0 1 0 1 0]\n",
      " [0 1 0 1 0 1 0 1]]\n"
     ]
    }
   ],
   "source": [
    "arr=np.array([[1,0],[0,1]])\n",
    "narr=np.tile(arr,(4,4))\n",
    "print(narr)"
   ]
  },
  {
   "cell_type": "markdown",
   "id": "55ca6f57",
   "metadata": {},
   "source": [
    "22. Normalize a 5x5 random matrix"
   ]
  },
  {
   "cell_type": "code",
   "execution_count": 51,
   "id": "99660bff",
   "metadata": {},
   "outputs": [
    {
     "name": "stdout",
     "output_type": "stream",
     "text": [
      "[[-0.97119891  0.75779033  1.23493535 -1.17091573  0.14520384]\n",
      " [-0.33382087  1.41775579 -1.75771093  1.09268992 -0.95864076]\n",
      " [-0.40462004  0.09865385  0.04164684 -0.39857911  0.88273245]\n",
      " [-0.91109729  0.91587425 -1.48706305 -0.56556398  1.37711541]\n",
      " [ 1.53636916 -0.38512112 -1.53193507  0.34868854  1.02681111]]\n"
     ]
    }
   ],
   "source": [
    "arr=np.random.random((5,5))\n",
    "ans=(arr-np.mean(arr))/(np.std(arr))\n",
    "print(ans)"
   ]
  },
  {
   "cell_type": "markdown",
   "id": "a4935e57",
   "metadata": {},
   "source": [
    "Create a custom dtype that describes a color as four unsigned bytes (RGBA) "
   ]
  },
  {
   "cell_type": "code",
   "execution_count": 59,
   "id": "4ca93ad1",
   "metadata": {},
   "outputs": [
    {
     "name": "stdout",
     "output_type": "stream",
     "text": [
      "1\n",
      "<class 'numpy.ndarray'>\n"
     ]
    }
   ],
   "source": [
    "arr=np.dtype([(\"R\",np.uint8),(\"G\",np.uint8),(\"B\",np.uint8),(\"A\",np.uint8)])\n",
    "narr=np.array((1,1,1,1),dtype=arr)\n",
    "print(narr['R'])\n",
    "print(type(narr))"
   ]
  },
  {
   "cell_type": "markdown",
   "id": "b24681a8",
   "metadata": {},
   "source": [
    "24. Multiply a 5x3 matrix by a 3x2 matrix (real matrix product)"
   ]
  },
  {
   "cell_type": "code",
   "execution_count": 69,
   "id": "b84c71ae",
   "metadata": {},
   "outputs": [
    {
     "name": "stdout",
     "output_type": "stream",
     "text": [
      "[[0.67269238 1.08321745]\n",
      " [0.43453293 0.68315362]\n",
      " [0.74840244 0.77634186]\n",
      " [0.82978933 1.16395833]\n",
      " [1.01459152 1.23191455]]\n",
      "[[1.0035076  0.56095164]\n",
      " [0.76131465 0.62857906]\n",
      " [1.48380443 0.71325796]\n",
      " [1.48862888 0.76535617]\n",
      " [1.51132089 0.81350055]]\n"
     ]
    }
   ],
   "source": [
    "arr1=np.random.random((5,3))\n",
    "arr2=np.random.random((3,2))\n",
    "ans=np.dot(arr1,arr2)\n",
    "print(ans)\n",
    "print(arr3 @ arr4)\n"
   ]
  },
  {
   "cell_type": "markdown",
   "id": "4ad682cf",
   "metadata": {},
   "source": [
    "25. Given a 1D array, negate all elements which are between 3 and 8, in place. "
   ]
  },
  {
   "cell_type": "code",
   "execution_count": 71,
   "id": "4d7c5e74",
   "metadata": {},
   "outputs": [
    {
     "name": "stdout",
     "output_type": "stream",
     "text": [
      "[ 0  1  2  3 -4 -5 -6 -7  8  9 10 11]\n"
     ]
    }
   ],
   "source": [
    "arr=np.arange(12)\n",
    "arr[(arr>3)&(arr<8)]*=-1\n",
    "print(arr)"
   ]
  },
  {
   "cell_type": "markdown",
   "id": "d336857f",
   "metadata": {},
   "source": [
    "26. What is the output of the following script? "
   ]
  },
  {
   "cell_type": "code",
   "execution_count": 72,
   "id": "b8c117bc",
   "metadata": {},
   "outputs": [
    {
     "name": "stdout",
     "output_type": "stream",
     "text": [
      "9\n",
      "10\n"
     ]
    }
   ],
   "source": [
    "print(sum(range(5),-1))\n",
    "from numpy import *\n",
    "print(sum(range(5),-1))"
   ]
  },
  {
   "cell_type": "markdown",
   "id": "aebf2ab6",
   "metadata": {},
   "source": [
    "27. Consider an integer vector Z, which of these expressions are legal? "
   ]
  },
  {
   "cell_type": "code",
   "execution_count": 82,
   "id": "5411ec21",
   "metadata": {},
   "outputs": [
    {
     "name": "stdout",
     "output_type": "stream",
     "text": [
      "legel:[   1    1    4   27  256 3125]\n",
      "[ 0  1  2  4  8 16]\n",
      "[False False False False False False]\n",
      "[0.+0.j 0.+1.j 0.+2.j 0.+3.j 0.+4.j 0.+5.j]\n",
      "[0. 1. 2. 3. 4. 5.]\n"
     ]
    },
    {
     "ename": "ValueError",
     "evalue": "The truth value of an array with more than one element is ambiguous. Use a.any() or a.all()",
     "output_type": "error",
     "traceback": [
      "\u001b[1;31m---------------------------------------------------------------------------\u001b[0m",
      "\u001b[1;31mValueError\u001b[0m                                Traceback (most recent call last)",
      "Cell \u001b[1;32mIn [82], line 7\u001b[0m\n\u001b[0;32m      5\u001b[0m \u001b[38;5;28mprint\u001b[39m(\u001b[38;5;241m1\u001b[39mj\u001b[38;5;241m*\u001b[39mZ)\n\u001b[0;32m      6\u001b[0m \u001b[38;5;28mprint\u001b[39m(Z\u001b[38;5;241m/\u001b[39m\u001b[38;5;241m1\u001b[39m\u001b[38;5;241m/\u001b[39m\u001b[38;5;241m1\u001b[39m)\n\u001b[1;32m----> 7\u001b[0m \u001b[38;5;28mprint\u001b[39m(Z\u001b[38;5;241m<\u001b[39mZ\u001b[38;5;241m>\u001b[39mZ)\n",
      "\u001b[1;31mValueError\u001b[0m: The truth value of an array with more than one element is ambiguous. Use a.any() or a.all()"
     ]
    }
   ],
   "source": [
    "Z=np.arange(0,6)\n",
    "print({Z**Z})\n",
    "print(2 << Z >> 2)\n",
    "print(Z <- Z)\n",
    "print(1j*Z)\n",
    "print(Z/1/1)\n",
    "print(Z<Z>Z)"
   ]
  },
  {
   "cell_type": "markdown",
   "id": "e9689cf5",
   "metadata": {},
   "source": [
    "28. What are the result of the following expressions?"
   ]
  },
  {
   "cell_type": "code",
   "execution_count": 85,
   "id": "ebf57c46",
   "metadata": {},
   "outputs": [
    {
     "name": "stdout",
     "output_type": "stream",
     "text": [
      "nan\n",
      "0\n",
      "[-2.14748365e+09]\n"
     ]
    },
    {
     "name": "stderr",
     "output_type": "stream",
     "text": [
      "C:\\Users\\Neheil\\AppData\\Local\\Temp\\ipykernel_10296\\1422587819.py:1: RuntimeWarning: invalid value encountered in divide\n",
      "  print(np.array(0) / np.array(0))\n",
      "C:\\Users\\Neheil\\AppData\\Local\\Temp\\ipykernel_10296\\1422587819.py:2: RuntimeWarning: divide by zero encountered in floor_divide\n",
      "  print(np.array(0) // np.array(0))\n"
     ]
    }
   ],
   "source": [
    "print(np.array(0) / np.array(0))\n",
    "print(np.array(0) // np.array(0))\n",
    "print(np.array([np.nan]).astype(int).astype(float))\n"
   ]
  },
  {
   "cell_type": "markdown",
   "id": "45f78189",
   "metadata": {},
   "source": [
    "29. How to round away from zero a float array ?"
   ]
  },
  {
   "cell_type": "code",
   "execution_count": 87,
   "id": "f284d0a0",
   "metadata": {},
   "outputs": [
    {
     "name": "stdout",
     "output_type": "stream",
     "text": [
      "[[0.503 0.269 0.351 0.777 0.308]\n",
      " [0.956 0.314 0.366 0.097 0.635]\n",
      " [0.375 0.418 0.967 0.283 0.929]\n",
      " [0.432 0.328 0.58  0.272 0.861]\n",
      " [0.603 0.505 0.608 0.021 0.059]]\n"
     ]
    }
   ],
   "source": [
    "arr=np.random.random((5,5))\n",
    "narr=np.round(arr,3)\n",
    "print(narr)\n"
   ]
  },
  {
   "cell_type": "markdown",
   "id": "fa15e006",
   "metadata": {},
   "source": [
    "30. How to find common values between two arrays?"
   ]
  },
  {
   "cell_type": "code",
   "execution_count": 89,
   "id": "2ef2b681",
   "metadata": {},
   "outputs": [
    {
     "name": "stdout",
     "output_type": "stream",
     "text": [
      "[3 4 5]\n"
     ]
    }
   ],
   "source": [
    "arr1=np.array([1,2,3,4,5,6])\n",
    "arr2=np.array([7,3,5,8,4,9])\n",
    "ans=np.intersect1d(arr1,arr2)\n",
    "print(ans)\n"
   ]
  },
  {
   "cell_type": "markdown",
   "id": "69c76e3f",
   "metadata": {},
   "source": [
    "31. How to ignore all numpy warnings (not recommended)?"
   ]
  },
  {
   "cell_type": "code",
   "execution_count": 92,
   "id": "284b056b",
   "metadata": {},
   "outputs": [],
   "source": [
    "d=np.seterr(all=\"ignore\")\n",
    "arr=np.ones(1)/0\n",
    "_=np.seterr(**d)\n",
    "#another way\n",
    "with np.errstate(divide=\"ignore\"):\n",
    "    arr=np.ones(1)/0"
   ]
  },
  {
   "cell_type": "markdown",
   "id": "4a0493a0",
   "metadata": {},
   "source": [
    "32. Is the following expressions true?"
   ]
  },
  {
   "cell_type": "code",
   "execution_count": 94,
   "id": "73a63996",
   "metadata": {},
   "outputs": [
    {
     "name": "stderr",
     "output_type": "stream",
     "text": [
      "C:\\Users\\Neheil\\AppData\\Local\\Temp\\ipykernel_10296\\244602691.py:1: RuntimeWarning: invalid value encountered in sqrt\n",
      "  np.sqrt(-1) == np.emath.sqrt(-1)\n"
     ]
    },
    {
     "data": {
      "text/plain": [
       "False"
      ]
     },
     "execution_count": 94,
     "metadata": {},
     "output_type": "execute_result"
    }
   ],
   "source": [
    "np.sqrt(-1) == np.emath.sqrt(-1)"
   ]
  },
  {
   "cell_type": "markdown",
   "id": "516c70f4",
   "metadata": {},
   "source": [
    "33. How to get the dates of yesterday, today and tomorrow? "
   ]
  },
  {
   "cell_type": "code",
   "execution_count": 98,
   "id": "0d276e08",
   "metadata": {},
   "outputs": [
    {
     "name": "stdout",
     "output_type": "stream",
     "text": [
      "Today:2023-01-24\n",
      "Yesterday:2023-01-23\n",
      "Tomorrow:2023-01-25\n"
     ]
    }
   ],
   "source": [
    "today=np.datetime64(\"today\",\"D\")\n",
    "print(f\"Today:{today}\")\n",
    "yesterday=np.datetime64(\"today\",\"D\")-np.timedelta64(1,\"D\")\n",
    "print(f\"Yesterday:{yesterday}\")\n",
    "tomorrow=np.datetime64(\"today\",\"D\")+np.timedelta64(1,\"D\")\n",
    "print(f\"Tomorrow:{tomorrow}\")"
   ]
  },
  {
   "cell_type": "markdown",
   "id": "4f550fdb",
   "metadata": {},
   "source": [
    "34. How to get all the dates corresponding to the month of July 2016? "
   ]
  },
  {
   "cell_type": "code",
   "execution_count": 99,
   "id": "8162d94c",
   "metadata": {},
   "outputs": [
    {
     "name": "stdout",
     "output_type": "stream",
     "text": [
      "['2016-07-01' '2016-07-02' '2016-07-03' '2016-07-04' '2016-07-05'\n",
      " '2016-07-06' '2016-07-07' '2016-07-08' '2016-07-09' '2016-07-10'\n",
      " '2016-07-11' '2016-07-12' '2016-07-13' '2016-07-14' '2016-07-15'\n",
      " '2016-07-16' '2016-07-17' '2016-07-18' '2016-07-19' '2016-07-20'\n",
      " '2016-07-21' '2016-07-22' '2016-07-23' '2016-07-24' '2016-07-25'\n",
      " '2016-07-26' '2016-07-27' '2016-07-28' '2016-07-29' '2016-07-30'\n",
      " '2016-07-31']\n"
     ]
    }
   ],
   "source": [
    "arr=np.arange('2016-07','2016-08',dtype=\"datetime64[D]\")\n",
    "print(arr)"
   ]
  },
  {
   "cell_type": "markdown",
   "id": "484f6856",
   "metadata": {},
   "source": [
    "35. How to compute ((A+B)*(-A/2)) in place (without copy)?"
   ]
  },
  {
   "cell_type": "code",
   "execution_count": 101,
   "id": "263d3e20",
   "metadata": {},
   "outputs": [
    {
     "name": "stdout",
     "output_type": "stream",
     "text": [
      "[-1.5 -1.5 -1.5]\n"
     ]
    }
   ],
   "source": [
    "A=np.ones(3)\n",
    "B=np.ones(3)*2\n",
    "np.add(A,B,out=B)\n",
    "np.negative(A,out=A)\n",
    "np.divide(A,2,out=A)\n",
    "print(np.multiply(A,B,out=A))"
   ]
  },
  {
   "cell_type": "markdown",
   "id": "04419ff6",
   "metadata": {},
   "source": [
    "36. Extract the integer part of a random array using 5 different methods"
   ]
  },
  {
   "cell_type": "code",
   "execution_count": 113,
   "id": "527d1b44",
   "metadata": {},
   "outputs": [
    {
     "name": "stdout",
     "output_type": "stream",
     "text": [
      "[2.55638922 1.37507427 1.87907813 4.31540064 1.27654371]\n",
      "[2. 1. 1. 4. 1.]\n",
      "[2. 1. 1. 4. 1.]\n",
      "[2. 1. 1. 4. 1.]\n",
      "[2 1 1 4 1]\n",
      "[2. 1. 1. 4. 1.]\n"
     ]
    }
   ],
   "source": [
    "arr=np.random.uniform(0,10,5)\n",
    "print(arr)\n",
    "print(arr-arr%1)\n",
    "print(np.floor(arr))\n",
    "print(np.ceil(arr)-1)\n",
    "print(arr.astype(int))\n",
    "print(np.trunc(arr))"
   ]
  },
  {
   "cell_type": "markdown",
   "id": "3b0702d6",
   "metadata": {},
   "source": [
    "37. Create a 5x5 matrix with row values ranging from 0 to 4"
   ]
  },
  {
   "cell_type": "code",
   "execution_count": 115,
   "id": "c19b97ed",
   "metadata": {},
   "outputs": [
    {
     "name": "stdout",
     "output_type": "stream",
     "text": [
      "[[0. 1. 2. 3. 4.]\n",
      " [0. 1. 2. 3. 4.]\n",
      " [0. 1. 2. 3. 4.]\n",
      " [0. 1. 2. 3. 4.]\n",
      " [0. 1. 2. 3. 4.]]\n"
     ]
    }
   ],
   "source": [
    "arr=np.zeros((5,5))\n",
    "arr+=np.arange(5)\n",
    "print(arr)"
   ]
  },
  {
   "cell_type": "markdown",
   "id": "98f02745",
   "metadata": {},
   "source": [
    "38. Consider a generator function that generates 10 integers and use it to build an array"
   ]
  },
  {
   "cell_type": "code",
   "execution_count": 120,
   "id": "f67302fb",
   "metadata": {},
   "outputs": [
    {
     "name": "stdout",
     "output_type": "stream",
     "text": [
      "[0. 1. 2. 3. 4. 5. 6. 7. 8. 9.]\n"
     ]
    }
   ],
   "source": [
    "def generate():\n",
    "   for i in range(10):\n",
    "        yield i\n",
    "z=np.fromiter(generate(),dtype=float)  \n",
    "print(z)"
   ]
  },
  {
   "cell_type": "markdown",
   "id": "c8397215",
   "metadata": {},
   "source": [
    "39. Create a vector of size 10 with values ranging from 0 to 1, both excluded"
   ]
  },
  {
   "cell_type": "code",
   "execution_count": 124,
   "id": "fe292b9c",
   "metadata": {},
   "outputs": [
    {
     "name": "stdout",
     "output_type": "stream",
     "text": [
      "[0.09090909 0.18181818 0.27272727 0.36363636 0.45454545 0.54545455\n",
      " 0.63636364 0.72727273 0.81818182 0.90909091]\n"
     ]
    }
   ],
   "source": [
    "arr=np.linspace(0,1,11,endpoint=False)[1:]\n",
    "print(arr)"
   ]
  },
  {
   "cell_type": "markdown",
   "id": "a0cd20a4",
   "metadata": {},
   "source": [
    "40. Create a random vector of size 10 and sort it "
   ]
  },
  {
   "cell_type": "code",
   "execution_count": 125,
   "id": "3617ffc7",
   "metadata": {},
   "outputs": [
    {
     "name": "stdout",
     "output_type": "stream",
     "text": [
      "[0.01415769 0.04552311 0.12002575 0.36729313 0.37154658 0.37399312\n",
      " 0.45408445 0.49397872 0.50424858 0.60766823]\n"
     ]
    }
   ],
   "source": [
    "arr=np.random.random(10)\n",
    "arr.sort()\n",
    "print(arr)"
   ]
  },
  {
   "cell_type": "markdown",
   "id": "789ee6cd",
   "metadata": {},
   "source": [
    "41. How to sum a small array faster than np.sum?"
   ]
  },
  {
   "cell_type": "code",
   "execution_count": 128,
   "id": "d5575b4e",
   "metadata": {},
   "outputs": [
    {
     "data": {
      "text/plain": [
       "10"
      ]
     },
     "execution_count": 128,
     "metadata": {},
     "output_type": "execute_result"
    }
   ],
   "source": [
    "arr=np.arange(5)\n",
    "np.add.reduce(arr)"
   ]
  },
  {
   "cell_type": "markdown",
   "id": "926e1c5e",
   "metadata": {},
   "source": [
    "42. Consider two random array A and B, check if they are equal"
   ]
  },
  {
   "cell_type": "code",
   "execution_count": 133,
   "id": "449ac4d6",
   "metadata": {},
   "outputs": [
    {
     "name": "stdout",
     "output_type": "stream",
     "text": [
      "False\n"
     ]
    }
   ],
   "source": [
    "arr1=np.random.randint(0,2,5)\n",
    "arr2=np.random.randint(0,2,5)\n",
    "ans1=np.array_equal(arr1,arr2)\n",
    "print(ans1)"
   ]
  },
  {
   "cell_type": "markdown",
   "id": "c8a4b663",
   "metadata": {},
   "source": [
    "43. Make an array immutable (read-only)"
   ]
  },
  {
   "cell_type": "code",
   "execution_count": 135,
   "id": "5989dbee",
   "metadata": {},
   "outputs": [
    {
     "ename": "ValueError",
     "evalue": "assignment destination is read-only",
     "output_type": "error",
     "traceback": [
      "\u001b[1;31m---------------------------------------------------------------------------\u001b[0m",
      "\u001b[1;31mValueError\u001b[0m                                Traceback (most recent call last)",
      "Cell \u001b[1;32mIn [135], line 3\u001b[0m\n\u001b[0;32m      1\u001b[0m arr\u001b[38;5;241m=\u001b[39mnp\u001b[38;5;241m.\u001b[39marange(\u001b[38;5;241m0\u001b[39m,\u001b[38;5;241m5\u001b[39m)\n\u001b[0;32m      2\u001b[0m arr\u001b[38;5;241m.\u001b[39mflags\u001b[38;5;241m.\u001b[39mwriteable\u001b[38;5;241m=\u001b[39m\u001b[38;5;28;01mFalse\u001b[39;00m\n\u001b[1;32m----> 3\u001b[0m \u001b[43marr\u001b[49m\u001b[43m[\u001b[49m\u001b[38;5;241;43m0\u001b[39;49m\u001b[43m]\u001b[49m\u001b[38;5;241m=\u001b[39m\u001b[38;5;241m1\u001b[39m\n\u001b[0;32m      4\u001b[0m \u001b[38;5;28mprint\u001b[39m(arr)\n",
      "\u001b[1;31mValueError\u001b[0m: assignment destination is read-only"
     ]
    }
   ],
   "source": [
    "arr=np.arange(0,5)\n",
    "arr.flags.writeable=False\n",
    "arr[0]=1\n",
    "print(arr)"
   ]
  },
  {
   "cell_type": "markdown",
   "id": "c57ccf42",
   "metadata": {},
   "source": [
    "44. Consider a random 10x2 matrix representing cartesian coordinates, convert them to polar coordinates "
   ]
  },
  {
   "cell_type": "markdown",
   "id": "99248bf4",
   "metadata": {},
   "source": [
    "45. Create random vector of size 10 and replace the maximum value by 0"
   ]
  },
  {
   "cell_type": "code",
   "execution_count": 137,
   "id": "1ec9f53d",
   "metadata": {},
   "outputs": [
    {
     "name": "stdout",
     "output_type": "stream",
     "text": [
      "[0.56055173 0.15362486 0.         0.6534137  0.24267355 0.52320471\n",
      " 0.20515137 0.34191345 0.26949187 0.89015234]\n"
     ]
    }
   ],
   "source": [
    "arr=np.random.random(10)\n",
    "a=arr.argmax()\n",
    "arr[a]=0\n",
    "print(arr)"
   ]
  },
  {
   "cell_type": "markdown",
   "id": "c209a794",
   "metadata": {},
   "source": [
    "46. Create a structured array with x and y coordinates covering the [0,1]x[0,1] area"
   ]
  },
  {
   "cell_type": "markdown",
   "id": "67f45a92",
   "metadata": {},
   "source": [
    "47. Given two arrays, X and Y, construct the Cauchy matrix C (Cij =1/(xi - yj))"
   ]
  },
  {
   "cell_type": "code",
   "execution_count": 138,
   "id": "ce1e952c",
   "metadata": {},
   "outputs": [
    {
     "name": "stdout",
     "output_type": "stream",
     "text": [
      "[[-0.025      -0.02       -0.01666667]\n",
      " [-0.03333333 -0.025      -0.02      ]\n",
      " [-0.05       -0.03333333 -0.025     ]\n",
      " [-0.1        -0.05       -0.03333333]]\n"
     ]
    }
   ],
   "source": [
    "x=np.array([1,2,3,4])\n",
    "y=np.array([5,6,7])\n",
    "x=x.reshape((-1,1))\n",
    "d_mat=x-y\n",
    "ans=0.1/d_mat\n",
    "print(ans)"
   ]
  },
  {
   "cell_type": "markdown",
   "id": "492567d5",
   "metadata": {},
   "source": [
    "48. Print the minimum and maximum representable value for each numpy scalar type"
   ]
  },
  {
   "cell_type": "code",
   "execution_count": 140,
   "id": "239990ec",
   "metadata": {},
   "outputs": [
    {
     "name": "stdout",
     "output_type": "stream",
     "text": [
      "-128\n",
      "127\n",
      "-2147483648\n",
      "2147483647\n",
      "-9223372036854775808\n",
      "9223372036854775807\n",
      "-3.4028235e+38\n",
      "3.4028235e+38\n",
      "1.1920929e-07\n",
      "-1.7976931348623157e+308\n",
      "1.7976931348623157e+308\n",
      "2.220446049250313e-16\n"
     ]
    }
   ],
   "source": [
    "for i in[np.int8,np.int32,np.int64]:\n",
    "     print(np.iinfo(i).min)\n",
    "     print(np.iinfo(i).max)\n",
    "for i in[np.float32,np.float64]:\n",
    "     print(np.finfo(i).min)\n",
    "     print(np.finfo(i).max)\n",
    "     print(np.finfo(i).eps)   "
   ]
  },
  {
   "cell_type": "markdown",
   "id": "760015e3",
   "metadata": {},
   "source": [
    "49. How to print all the values of an array?"
   ]
  },
  {
   "cell_type": "code",
   "execution_count": 147,
   "id": "a5e65c52",
   "metadata": {},
   "outputs": [
    {
     "name": "stdout",
     "output_type": "stream",
     "text": [
      "[[0. 0. 0. 0. 0. 0. 0. 0. 0. 0. 0. 0. 0. 0. 0. 0.]\n",
      " [0. 0. 0. 0. 0. 0. 0. 0. 0. 0. 0. 0. 0. 0. 0. 0.]\n",
      " [0. 0. 0. 0. 0. 0. 0. 0. 0. 0. 0. 0. 0. 0. 0. 0.]\n",
      " [0. 0. 0. 0. 0. 0. 0. 0. 0. 0. 0. 0. 0. 0. 0. 0.]\n",
      " [0. 0. 0. 0. 0. 0. 0. 0. 0. 0. 0. 0. 0. 0. 0. 0.]\n",
      " [0. 0. 0. 0. 0. 0. 0. 0. 0. 0. 0. 0. 0. 0. 0. 0.]\n",
      " [0. 0. 0. 0. 0. 0. 0. 0. 0. 0. 0. 0. 0. 0. 0. 0.]\n",
      " [0. 0. 0. 0. 0. 0. 0. 0. 0. 0. 0. 0. 0. 0. 0. 0.]\n",
      " [0. 0. 0. 0. 0. 0. 0. 0. 0. 0. 0. 0. 0. 0. 0. 0.]\n",
      " [0. 0. 0. 0. 0. 0. 0. 0. 0. 0. 0. 0. 0. 0. 0. 0.]\n",
      " [0. 0. 0. 0. 0. 0. 0. 0. 0. 0. 0. 0. 0. 0. 0. 0.]\n",
      " [0. 0. 0. 0. 0. 0. 0. 0. 0. 0. 0. 0. 0. 0. 0. 0.]\n",
      " [0. 0. 0. 0. 0. 0. 0. 0. 0. 0. 0. 0. 0. 0. 0. 0.]\n",
      " [0. 0. 0. 0. 0. 0. 0. 0. 0. 0. 0. 0. 0. 0. 0. 0.]\n",
      " [0. 0. 0. 0. 0. 0. 0. 0. 0. 0. 0. 0. 0. 0. 0. 0.]\n",
      " [0. 0. 0. 0. 0. 0. 0. 0. 0. 0. 0. 0. 0. 0. 0. 0.]]\n"
     ]
    }
   ],
   "source": [
    "z=np.zeros((16,16))\n",
    "print(z)"
   ]
  },
  {
   "cell_type": "markdown",
   "id": "fd916343",
   "metadata": {},
   "source": [
    "50. How to find the closest value (to a given scalar) in a vector?"
   ]
  },
  {
   "cell_type": "code",
   "execution_count": 156,
   "id": "85784472",
   "metadata": {},
   "outputs": [
    {
     "name": "stdout",
     "output_type": "stream",
     "text": [
      "[3.79392941 9.27295606 7.76687453 4.43445757 9.38723406 3.80132487\n",
      " 4.63692034 0.68401278 0.4672539  1.11933715]\n",
      "[1.20607059 4.27295606 2.76687453 0.56554243 4.38723406 1.19867513\n",
      " 0.36307966 4.31598722 4.5327461  3.88066285]\n",
      "4.636920337486746\n"
     ]
    }
   ],
   "source": [
    "arr=np.random.uniform(0,10,10)\n",
    "scalar=3\n",
    "arr1=np.abs(arr-5)\n",
    "print(arr)\n",
    "print(arr1)\n",
    "ans=arr1.argmin()\n",
    "print(arr[ans])"
   ]
  },
  {
   "cell_type": "markdown",
   "id": "669d5464",
   "metadata": {},
   "source": [
    "51. Create a structured array representing a position (x,y) and a color (r,g,b)"
   ]
  },
  {
   "cell_type": "code",
   "execution_count": 157,
   "id": "b5fffad3",
   "metadata": {},
   "outputs": [
    {
     "ename": "SyntaxError",
     "evalue": "closing parenthesis ')' does not match opening parenthesis '[' on line 1 (2064842730.py, line 3)",
     "output_type": "error",
     "traceback": [
      "\u001b[1;36m  Cell \u001b[1;32mIn [157], line 3\u001b[1;36m\u001b[0m\n\u001b[1;33m    (\"g\",float),(\"b\",float)])])\u001b[0m\n\u001b[1;37m                            ^\u001b[0m\n\u001b[1;31mSyntaxError\u001b[0m\u001b[1;31m:\u001b[0m closing parenthesis ')' does not match opening parenthesis '[' on line 1\n"
     ]
    }
   ],
   "source": [
    "arr=np.zeros(10,[(\"position\",[(\"x\",float),\n",
    "                (\"y\",float)]),[(\"color\",[(\"r\",float),\n",
    "                              (\"g\",float),(\"b\",float)])])\n",
    "print(z)"
   ]
  },
  {
   "cell_type": "markdown",
   "id": "30d7590f",
   "metadata": {},
   "source": [
    "52. Consider a random vector with shape (100,2) representing coordinates, find point by point distances "
   ]
  },
  {
   "cell_type": "markdown",
   "id": "40833564",
   "metadata": {},
   "source": [
    "53. How to convert a float (32 bits) array into an integer (32 bits) in place?"
   ]
  },
  {
   "cell_type": "code",
   "execution_count": 158,
   "id": "ca3822fc",
   "metadata": {},
   "outputs": [
    {
     "name": "stdout",
     "output_type": "stream",
     "text": [
      "[0 1 2 3 4 5 6 7 8 9]\n"
     ]
    }
   ],
   "source": [
    "arr=np.arange(10,dtype=np.float32)\n",
    "arr1=arr.astype(np.int32,copy=False)\n",
    "print(arr1)"
   ]
  },
  {
   "cell_type": "markdown",
   "id": "9891e3c4",
   "metadata": {},
   "source": [
    "54. How to read the following file?"
   ]
  },
  {
   "cell_type": "code",
   "execution_count": 161,
   "id": "1b09bccf",
   "metadata": {},
   "outputs": [
    {
     "name": "stdout",
     "output_type": "stream",
     "text": [
      "[[ 1  2  3  4  5]\n",
      " [ 6 -1 -1  7  8]\n",
      " [-1 -1  9 10 11]]\n"
     ]
    }
   ],
   "source": [
    "from io import StringIO\n",
    "s=StringIO(\"\"\"1, 2, 3, 4, 5\n",
    "              6,  ,  , 7, 8\n",
    "               ,  , 9,10,11\"\"\")\n",
    "arr=np.genfromtxt(s,delimiter=\",\",dtype=np.int32)\n",
    "print(arr)"
   ]
  },
  {
   "cell_type": "markdown",
   "id": "6c2cdb30",
   "metadata": {},
   "source": [
    "55. What is the equivalent of enumerate for numpy arrays?"
   ]
  },
  {
   "cell_type": "code",
   "execution_count": 167,
   "id": "f988aa81",
   "metadata": {},
   "outputs": [
    {
     "name": "stdout",
     "output_type": "stream",
     "text": [
      "(0, 0) 1\n",
      "(0, 1) 2\n",
      "(0, 2) 3\n",
      "(1, 0) 5\n",
      "(1, 1) 6\n",
      "(1, 2) 7\n",
      "*********************************************\n",
      "(0, 0)\n",
      "(0, 1)\n",
      "(0, 2)\n",
      "(1, 0)\n",
      "(1, 1)\n",
      "(1, 2)\n",
      "(2, 0)\n",
      "(2, 1)\n",
      "(2, 2)\n"
     ]
    }
   ],
   "source": [
    "arr=np.array([[1,2,3],[5,6,7]])\n",
    "for index, i in np.ndenumerate(arr):\n",
    "    print(index,i)\n",
    "print(\"*********************************************\")    \n",
    "arr1=np.arange(9).reshape(3,3)\n",
    "for index in np.ndindex(arr1.shape):\n",
    "    print(index)"
   ]
  },
  {
   "cell_type": "markdown",
   "id": "657e53f0",
   "metadata": {},
   "source": [
    "56. Generate a generic 2D Gaussian-like array"
   ]
  },
  {
   "cell_type": "code",
   "execution_count": 172,
   "id": "46681178",
   "metadata": {},
   "outputs": [
    {
     "name": "stdout",
     "output_type": "stream",
     "text": [
      "[[0.36787944 0.53526143 0.60653066 0.53526143 0.36787944]\n",
      " [0.53526143 0.77880078 0.8824969  0.77880078 0.53526143]\n",
      " [0.60653066 0.8824969  1.         0.8824969  0.60653066]\n",
      " [0.53526143 0.77880078 0.8824969  0.77880078 0.53526143]\n",
      " [0.36787944 0.53526143 0.60653066 0.53526143 0.36787944]]\n"
     ]
    }
   ],
   "source": [
    "x,y=np.meshgrid(np.linspace(-1,1,5),np.linspace(-1,1,5))\n",
    "D=np.sqrt(x**2+y**2)\n",
    "sigma,mu=1.0,0.0\n",
    "G=np.exp(-((D-mu)**2/(2.0*sigma**2)))\n",
    "print(G)"
   ]
  },
  {
   "cell_type": "markdown",
   "id": "0c60ecd3",
   "metadata": {},
   "source": [
    "57. How to randomly place p elements in a 2D array?"
   ]
  },
  {
   "cell_type": "code",
   "execution_count": 182,
   "id": "8f10ef7b",
   "metadata": {},
   "outputs": [
    {
     "name": "stdout",
     "output_type": "stream",
     "text": [
      "[[0. 0. 0. 0. 0.]\n",
      " [0. 0. 0. 1. 0.]\n",
      " [0. 0. 0. 0. 0.]\n",
      " [1. 0. 1. 0. 0.]\n",
      " [0. 0. 0. 0. 0.]]\n"
     ]
    }
   ],
   "source": [
    "p=3\n",
    "Z = np.zeros((5,5))\n",
    "np.put(Z, np.random.choice(range(5*5), p, replace=False),1)\n",
    "print(Z)"
   ]
  },
  {
   "cell_type": "markdown",
   "id": "d9c4dfab",
   "metadata": {},
   "source": [
    "58. Subtract the mean of each row of a matrix"
   ]
  },
  {
   "cell_type": "code",
   "execution_count": 188,
   "id": "dd1922cb",
   "metadata": {},
   "outputs": [
    {
     "name": "stdout",
     "output_type": "stream",
     "text": [
      "[[-0.15499949 -0.03893043 -0.0301082   0.44774631 -0.2237082 ]\n",
      " [-0.14577961 -0.02726104  0.01522889  0.1481339   0.00967787]\n",
      " [ 0.12076577  0.09784953 -0.04233226  0.10138391 -0.27766694]\n",
      " [ 0.01116881  0.35113498 -0.14603672 -0.4618698   0.24560274]\n",
      " [ 0.12832777 -0.16888083  0.11068839  0.21491129 -0.28504663]]\n"
     ]
    }
   ],
   "source": [
    "arr=np.random.rand(5,5)\n",
    "arr1=arr-arr.mean(axis=1,keepdims=True)\n",
    "print(arr1)"
   ]
  },
  {
   "cell_type": "markdown",
   "id": "d70a24d5",
   "metadata": {},
   "source": [
    "59. How to sort an array by the nth column?"
   ]
  },
  {
   "cell_type": "code",
   "execution_count": 192,
   "id": "ace48700",
   "metadata": {},
   "outputs": [
    {
     "name": "stdout",
     "output_type": "stream",
     "text": [
      "[[0 8 8]\n",
      " [8 6 7]\n",
      " [5 2 7]]\n",
      "[[5 2 7]\n",
      " [8 6 7]\n",
      " [0 8 8]]\n"
     ]
    }
   ],
   "source": [
    "arr=np.random.randint(0,10,(3,3))\n",
    "print(arr)\n",
    "print(arr[arr[:,1].argsort()])"
   ]
  },
  {
   "cell_type": "markdown",
   "id": "8c7780a2",
   "metadata": {},
   "source": [
    "60. How to tell if a given 2D array has null columns?"
   ]
  },
  {
   "cell_type": "code",
   "execution_count": 195,
   "id": "f1b19c7e",
   "metadata": {},
   "outputs": [
    {
     "name": "stdout",
     "output_type": "stream",
     "text": [
      "[[1 2 1 1 1 4 3 1 2 3]\n",
      " [1 4 2 3 2 2 0 3 3 0]\n",
      " [3 0 0 1 0 1 1 4 0 3]\n",
      " [2 4 0 2 4 4 4 1 2 0]\n",
      " [0 4 3 2 1 4 4 3 1 1]]\n",
      "True\n"
     ]
    }
   ],
   "source": [
    "arr=np.random.randint(0,5,(5,10))\n",
    "ans=(~z.any(axis=0)).any()\n",
    "print(arr)\n",
    "print(ans)"
   ]
  },
  {
   "cell_type": "markdown",
   "id": "3559e14f",
   "metadata": {},
   "source": [
    "61. Find the nearest value from a given value in an array"
   ]
  },
  {
   "cell_type": "code",
   "execution_count": 201,
   "id": "493a3320",
   "metadata": {},
   "outputs": [
    {
     "name": "stdout",
     "output_type": "stream",
     "text": [
      "0.47648288896832236\n"
     ]
    }
   ],
   "source": [
    "arr=np.random.uniform(0,1,10)\n",
    "k=0.5\n",
    "ans=arr.flat[np.abs(arr-k).argmin()]\n",
    "\n",
    "print(ans)"
   ]
  },
  {
   "cell_type": "markdown",
   "id": "18384612",
   "metadata": {},
   "source": [
    "62. Considering two arrays with shape (1,3) and (3,1), how to compute their sum using an iterator? "
   ]
  },
  {
   "cell_type": "code",
   "execution_count": 207,
   "id": "a03c453b",
   "metadata": {},
   "outputs": [
    {
     "ename": "ValueError",
     "evalue": "could not broadcast input array from shape (3,3) into shape ()",
     "output_type": "error",
     "traceback": [
      "\u001b[1;31m---------------------------------------------------------------------------\u001b[0m",
      "\u001b[1;31mValueError\u001b[0m                                Traceback (most recent call last)",
      "Cell \u001b[1;32mIn [207], line 4\u001b[0m\n\u001b[0;32m      2\u001b[0m arr2\u001b[38;5;241m=\u001b[39mnp\u001b[38;5;241m.\u001b[39marange(\u001b[38;5;241m3\u001b[39m)\u001b[38;5;241m.\u001b[39mreshape(\u001b[38;5;241m1\u001b[39m,\u001b[38;5;241m3\u001b[39m)\n\u001b[0;32m      3\u001b[0m fun\u001b[38;5;241m=\u001b[39mnp\u001b[38;5;241m.\u001b[39mnditer([arr1,arr2,\u001b[38;5;28;01mNone\u001b[39;00m])\n\u001b[1;32m----> 4\u001b[0m \u001b[38;5;28;01mfor\u001b[39;00m x,y,z \u001b[38;5;129;01min\u001b[39;00m fun:z[\u001b[38;5;241m.\u001b[39m\u001b[38;5;241m.\u001b[39m\u001b[38;5;241m.\u001b[39m]\u001b[38;5;241m=\u001b[39marr1\u001b[38;5;241m+\u001b[39marr2\n\u001b[0;32m      5\u001b[0m \u001b[38;5;28mprint\u001b[39m(fun\u001b[38;5;241m.\u001b[39moperand[\u001b[38;5;241m2\u001b[39m])\n",
      "\u001b[1;31mValueError\u001b[0m: could not broadcast input array from shape (3,3) into shape ()"
     ]
    }
   ],
   "source": [
    "arr1=np.arange(3).reshape(3,1)\n",
    "arr2=np.arange(3).reshape(1,3)\n",
    "fun=np.nditer([arr1,arr2,None])\n",
    "for x,y,z in fun:z[...]=arr1+arr2\n",
    "print(fun.operand[2])"
   ]
  },
  {
   "cell_type": "markdown",
   "id": "f223789f",
   "metadata": {},
   "source": [
    "65. How to accumulate elements of a vector (X) to an array (F) based on an index list (I)?"
   ]
  },
  {
   "cell_type": "code",
   "execution_count": 210,
   "id": "46da7245",
   "metadata": {},
   "outputs": [
    {
     "name": "stdout",
     "output_type": "stream",
     "text": [
      "[0. 0. 7. 4. 7. 0. 0. 0. 0. 3.]\n"
     ]
    }
   ],
   "source": [
    "x = [1,2,3,4,5,6]\n",
    "I = [2,4,9,3,4,2]\n",
    "F = np.bincount(I,x)\n",
    "print(F)"
   ]
  },
  {
   "cell_type": "markdown",
   "id": "5cdff0cc",
   "metadata": {},
   "source": [
    "67. Considering a four dimensions array, how to get sum over the last two axis at once?"
   ]
  },
  {
   "cell_type": "code",
   "execution_count": 214,
   "id": "0c5d4eb8",
   "metadata": {},
   "outputs": [
    {
     "name": "stdout",
     "output_type": "stream",
     "text": [
      "[[50 59 51 48]\n",
      " [58 42 45 50]\n",
      " [51 70 38 65]]\n"
     ]
    }
   ],
   "source": [
    "arr=np.random.randint(0,10,(3,4,3,4))\n",
    "ans=arr.sum(axis=(-2,-1))\n",
    "print(ans)"
   ]
  },
  {
   "cell_type": "markdown",
   "id": "3e081aa7",
   "metadata": {},
   "source": [
    "68. Considering a one-dimensional vector D, how to compute means of subsets of D using a vector S of same size describing subset indices?"
   ]
  },
  {
   "cell_type": "code",
   "execution_count": 216,
   "id": "341468f6",
   "metadata": {},
   "outputs": [
    {
     "name": "stdout",
     "output_type": "stream",
     "text": [
      "[0.39412681 0.55307207 0.52078772 0.57835858 0.58224953 0.48510562\n",
      " 0.29973156 0.59751454 0.44013175 0.38263523]\n"
     ]
    }
   ],
   "source": [
    "D=np.random.uniform(0,1,100)\n",
    "S=np.random.randint(0,10,100)\n",
    "Dsum=np.bincount(S,weights=D)\n",
    "Dcounts=np.bincount(S)\n",
    "Dmean=Dsum/Dcounts\n",
    "print(Dmean)"
   ]
  },
  {
   "cell_type": "markdown",
   "id": "f595ece0",
   "metadata": {},
   "source": [
    "69. How to get the diagonal of a dot product? "
   ]
  },
  {
   "cell_type": "code",
   "execution_count": 217,
   "id": "d10da28d",
   "metadata": {},
   "outputs": [
    {
     "name": "stdout",
     "output_type": "stream",
     "text": [
      "[1.26586937 0.98894411 0.9225927  1.3623873  1.67552976]\n"
     ]
    }
   ],
   "source": [
    "arr1=np.random.uniform(0,1,(5,5))\n",
    "arr2=np.random.uniform(0,1,(5,5))\n",
    "ans=np.sum(arr1*arr2.T,axis=1)\n",
    "print(ans)"
   ]
  },
  {
   "cell_type": "markdown",
   "id": "2436d094",
   "metadata": {},
   "source": [
    "70. Consider the vector [1, 2, 3, 4, 5], how to build a new vector with 3 consecutive zeros interleaved between each value?"
   ]
  },
  {
   "cell_type": "code",
   "execution_count": 219,
   "id": "6f0a5de6",
   "metadata": {},
   "outputs": [
    {
     "name": "stdout",
     "output_type": "stream",
     "text": [
      "[4. 0. 0. 0. 5. 0. 0. 0. 6. 0. 0. 0. 3. 0. 0. 0. 5.]\n"
     ]
    }
   ],
   "source": [
    "arr=np.array([4,5,6,3,5])\n",
    "c=3\n",
    "arr1=np.zeros(len(arr)+(len(arr)-1)*c)\n",
    "arr1[::c+1]=arr\n",
    "print(arr1)"
   ]
  },
  {
   "cell_type": "markdown",
   "id": "ac286949",
   "metadata": {},
   "source": [
    "71. Consider an array of dimension (5,5,3), how to mulitply it by an array with dimensions (5,5)? "
   ]
  },
  {
   "cell_type": "code",
   "execution_count": 225,
   "id": "5793d405",
   "metadata": {},
   "outputs": [
    {
     "name": "stdout",
     "output_type": "stream",
     "text": [
      "[[[2. 2. 2.]\n",
      "  [2. 2. 2.]\n",
      "  [2. 2. 2.]\n",
      "  [2. 2. 2.]\n",
      "  [2. 2. 2.]]\n",
      "\n",
      " [[2. 2. 2.]\n",
      "  [2. 2. 2.]\n",
      "  [2. 2. 2.]\n",
      "  [2. 2. 2.]\n",
      "  [2. 2. 2.]]\n",
      "\n",
      " [[2. 2. 2.]\n",
      "  [2. 2. 2.]\n",
      "  [2. 2. 2.]\n",
      "  [2. 2. 2.]\n",
      "  [2. 2. 2.]]\n",
      "\n",
      " [[2. 2. 2.]\n",
      "  [2. 2. 2.]\n",
      "  [2. 2. 2.]\n",
      "  [2. 2. 2.]\n",
      "  [2. 2. 2.]]\n",
      "\n",
      " [[2. 2. 2.]\n",
      "  [2. 2. 2.]\n",
      "  [2. 2. 2.]\n",
      "  [2. 2. 2.]\n",
      "  [2. 2. 2.]]]\n"
     ]
    }
   ],
   "source": [
    "arr1=np.ones((5,5,3))\n",
    "arr2=2*np.ones((5,5))\n",
    "ans=arr1*arr2[:,:,None]\n",
    "print(ans)"
   ]
  },
  {
   "cell_type": "markdown",
   "id": "6dd85998",
   "metadata": {},
   "source": [
    "72. How to swap two rows of an array?"
   ]
  },
  {
   "cell_type": "code",
   "execution_count": 227,
   "id": "6b469258",
   "metadata": {},
   "outputs": [
    {
     "name": "stdout",
     "output_type": "stream",
     "text": [
      "[[ 4  5  6  7]\n",
      " [ 0  1  2  3]\n",
      " [ 8  9 10 11]\n",
      " [12 13 14 15]]\n"
     ]
    }
   ],
   "source": [
    "arr=np.arange(16).reshape(4,4)\n",
    "arr[[0,1]]=arr[[1,0]]\n",
    "print(arr)"
   ]
  },
  {
   "cell_type": "markdown",
   "id": "5d58ae15",
   "metadata": {},
   "source": [
    "74. Given an array C that is a bincount, how to produce an array A such that np.bincount(A) == C?"
   ]
  },
  {
   "cell_type": "code",
   "execution_count": 229,
   "id": "378f3248",
   "metadata": {},
   "outputs": [
    {
     "name": "stdout",
     "output_type": "stream",
     "text": [
      "[1 2 3 4 5 6 7]\n"
     ]
    }
   ],
   "source": [
    "arr=np.bincount([1,4,5,3,6,7,2])\n",
    "arr1=np.repeat(np.arange(len(arr)),arr)\n",
    "print(arr1)"
   ]
  },
  {
   "cell_type": "markdown",
   "id": "969e2895",
   "metadata": {},
   "source": [
    "77. How to negate a boolean, or to change the sign of a float inplace? "
   ]
  },
  {
   "cell_type": "code",
   "execution_count": 234,
   "id": "db3b0e49",
   "metadata": {},
   "outputs": [
    {
     "name": "stdout",
     "output_type": "stream",
     "text": [
      "[0 0 1 1 0 1 1 1 0 0 0 0 1 1 0 0 1 1 0 1 0 0 0 0 1 0 0 1 1 1 0 0 1 1 0 1 0\n",
      " 1 0 1 0 0 1 0 0 0 0 0 1 0 0 0 1 0 1 0 0 1 0 1 1 1 1 1 0 1 1 0 0 1 1 0 0 1\n",
      " 0 1 0 0 1 1 0 0 0 0 1 0 1 0 1 1 1 1 0 0 0 0 0 0 0 0]\n",
      "####################################################################################################\n",
      "[ 0.34863077  0.85980578  0.69012432 -0.34069505 -0.04093232  0.54877676\n",
      "  0.23172657 -0.95514872 -0.17978289  0.34776254  0.34775546 -0.35333349\n",
      " -0.30791056 -0.25444903  0.04917588 -0.36066605  0.55133101 -0.88375071\n",
      "  0.41152243 -0.45544545  0.83251127  0.78819524  0.10017322  0.15752162\n",
      " -0.64996272]\n"
     ]
    }
   ],
   "source": [
    "arr=np.random.randint(0,2,100)\n",
    "print(np.logical_not(arr,out=arr))\n",
    "print(\"#\"*100)\n",
    "arr1=np.random.uniform(-1.0,1.0,25)\n",
    "print(np.negative(arr1,out=arr1))"
   ]
  },
  {
   "cell_type": "markdown",
   "id": "ec9f8ffe",
   "metadata": {},
   "source": [
    "84. Extract all the contiguous 3x3 blocks from a random 10x10 matrix"
   ]
  },
  {
   "cell_type": "markdown",
   "id": "91b5276e",
   "metadata": {},
   "source": [
    "82. Compute a matrix rank"
   ]
  },
  {
   "cell_type": "code",
   "execution_count": null,
   "id": "9a76c4c2",
   "metadata": {},
   "outputs": [],
   "source": []
  }
 ],
 "metadata": {
  "kernelspec": {
   "display_name": "Python 3 (ipykernel)",
   "language": "python",
   "name": "python3"
  },
  "language_info": {
   "codemirror_mode": {
    "name": "ipython",
    "version": 3
   },
   "file_extension": ".py",
   "mimetype": "text/x-python",
   "name": "python",
   "nbconvert_exporter": "python",
   "pygments_lexer": "ipython3",
   "version": "3.10.7"
  }
 },
 "nbformat": 4,
 "nbformat_minor": 5
}
